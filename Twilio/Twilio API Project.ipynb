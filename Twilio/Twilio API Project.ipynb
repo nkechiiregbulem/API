{
 "cells": [
  {
   "cell_type": "code",
   "execution_count": 2,
   "metadata": {},
   "outputs": [],
   "source": [
    "from twilio.rest import Client"
   ]
  },
  {
   "cell_type": "code",
   "execution_count": 3,
   "metadata": {},
   "outputs": [],
   "source": [
    "account = \"xxxxxxxxxxxxxxxxx\"\n",
    "token = \"xxxxxxxxxxxxxxxxxx\"\n",
    "client = Client(account, token)"
   ]
  },
  {
   "cell_type": "code",
   "execution_count": 7,
   "metadata": {},
   "outputs": [
    {
     "name": "stdout",
     "output_type": "stream",
     "text": [
      "CA54e741af22ab3bbe2d940178cb9a18e8\n"
     ]
    }
   ],
   "source": [
    "call = client.calls.create(to=\"xxxxxxxxxx\",\n",
    "                          from_ = \"xxxxxxxxx\",\n",
    "                          url = \"http://twimlets.com/holdmusic?Bucket=com.twilio.music.ambient\")\n",
    "print(call.sid)"
   ]
  },
  {
   "cell_type": "code",
   "execution_count": 10,
   "metadata": {},
   "outputs": [],
   "source": [
    "messsage = client.messages.create(to = \"xxxxxxxxxx\", from_ = \"xxxxxxxxx\",\n",
    "                                  body = \"Hello there! If you are viewing this body of code then you must be the hiring manager at Twilio. I wanted to create this little text message to show you how amazing I think this company is.\") "
   ]
  },
  {
   "cell_type": "code",
   "execution_count": null,
   "metadata": {},
   "outputs": [],
   "source": []
  }
 ],
 "metadata": {
  "kernelspec": {
   "display_name": "Python 3",
   "language": "python",
   "name": "python3"
  },
  "language_info": {
   "codemirror_mode": {
    "name": "ipython",
    "version": 3
   },
   "file_extension": ".py",
   "mimetype": "text/x-python",
   "name": "python",
   "nbconvert_exporter": "python",
   "pygments_lexer": "ipython3",
   "version": "3.6.5"
  }
 },
 "nbformat": 4,
 "nbformat_minor": 2
}
