{
 "cells": [
  {
   "cell_type": "code",
   "execution_count": 6,
   "metadata": {},
   "outputs": [],
   "source": [
    "import apptweak\n",
    "import requests"
   ]
  },
  {
   "cell_type": "code",
   "execution_count": 2,
   "metadata": {},
   "outputs": [],
   "source": [
    "apptweak.API_KEY = 'xxxxxxxxxxxxxx'\n",
    "\n",
    "app_id = '1247849330'\n",
    "\n",
    "end_point_documentation = apptweak.Ios.power.__doc__\n",
    "\n",
    "params={\"country\":\"us\",\"start_date\":\"2020-1-14\",\"end_date\":\"2020-1-20\",\"device\":\"iphone\"}\n",
    "\n",
    "json_response = apptweak.Ios.power(app_id,params)"
   ]
  },
  {
   "cell_type": "code",
   "execution_count": 39,
   "metadata": {},
   "outputs": [],
   "source": [
    "application_id = '1247849330'\n",
    "sort = \"most_useful\"\n",
    "category_id = \"4\" \n",
    "params={\n",
    "    \"country\":\"us\", # ISO Alpha-2\n",
    "    \"language\":\"us\", # ISO Alpha-2\n",
    "    \"device\":\"iphone\", # (iphone | ipad)\n",
    "    \"start_date\":\"2019-01-04\", # YYYY-MM-DD\n",
    "    \"end_date\":\"2019-05-24\", # YYYY-MM-DD\n",
    "    \"max-age\":\"96040\", # integer in seconds >0\n",
    "    \"min_rating\":\"1\", # integer >= 1 && <= 5\n",
    "    \"max_rating\":\"5\", # integer >= 1 && <= 5\n",
    "    \"term\":\"game\", # string (the term of the search)\n",
    "    \"from\":\"42\", # integer > 0 (like an offset)\n",
    "    \"type\":\"free\", # (free | paid | grossing)\n",
    "    \"num\":\"3\", # integer > 0 ( number of result)\n",
    "    \"size\":\"40\", # integer > 0 (size of the result)\n",
    "    \"keywords\":[\"games\",\"fun\",], # list of string, max 10\n",
    "    \"applications\":[\"1234\",\"4567\",] # list of app_ids\n",
    "}\n"
   ]
  },
  {
   "cell_type": "markdown",
   "metadata": {},
   "source": [
    "# App - Coinstats "
   ]
  },
  {
   "cell_type": "markdown",
   "metadata": {},
   "source": [
    "# All Reviews Request\n",
    "\n",
    "The Review list contains a series of review entries describing comments made by users on the app in the selected country. All Reviews allos you to fetch the top 100 reviews entries that AppTweak has been able to gather about a specific app on the App Store in the selected country."
   ]
  },
  {
   "cell_type": "code",
   "execution_count": 27,
   "metadata": {},
   "outputs": [
    {
     "name": "stdout",
     "output_type": "stream",
     "text": [
      "<class 'dict'>\n",
      "{'content': [{'country': 'be', 'application_id': '1247849330', 'date': '2019-02-21T07:20:22Z', 'rating': 5, 'title': 'Great app', 'body': 'App is super. Support is also the best. Thx', 'body_length': 43, 'vote_count': 0, 'vote_sum': 0, 'is_edited': False, 'id': '3795728377', 'author': {'name': 'Frvk22', 'type': 'Customers', 'id': 168634380}, 'sort_score': {'most_positive': 1577723115, 'most_critical': 1577723062, 'most_recent': 1577723085, 'most_useful': 1577723128}}, {'country': 'be', 'application_id': '1247849330', 'date': '2019-10-24T09:38:11Z', 'rating': 4, 'title': 'Félicitations 👏', 'body': 'Application vraiment utile et précise 👍🏻', 'body_length': 40, 'vote_count': 0, 'vote_sum': 0, 'is_edited': False, 'id': '5005704600', 'author': {'name': 'BESTON REA', 'type': 'Customers', 'id': 490279583}, 'sort_score': {'most_critical': 1577723063, 'most_positive': 1577723110, 'most_useful': 1577723127, 'most_recent': 1577723086}}, {'country': 'be', 'application_id': '1247849330', 'date': '2018-01-23T14:25:32Z', 'rating': 5, 'title': 'One of the best crypto tracking apps for IOs', 'body': 'Great job!!!', 'body_length': 12, 'vote_count': 0, 'vote_sum': 0, 'is_edited': False, 'id': '2118537451', 'author': {'name': 'Bbiella', 'type': 'Customers', 'id': 46124722}, 'sort_score': {'most_positive': 1577723114, 'most_critical': 1577723061, 'most_recent': 1577723084, 'most_useful': 1577723126}}, {'country': 'be', 'application_id': '1247849330', 'date': '2018-01-06T18:58:55Z', 'rating': 5, 'title': 'Add pump !', 'body': 'Just need a Little update .. no were to find and read the pump notifications .. but perfect app!', 'body_length': 96, 'vote_count': 0, 'vote_sum': 0, 'is_edited': False, 'id': '2063408406', 'author': {'name': 'arashrasty', 'type': 'Customers', 'id': 101011870}, 'sort_score': {'most_positive': 1577723113, 'most_critical': 1577723060, 'most_recent': 1577723083, 'most_useful': 1577723125}}, {'country': 'be', 'application_id': '1247849330', 'date': '2017-12-17T15:27:08Z', 'rating': 5, 'title': 'Top', 'body': 'Very useful intuitive and well designed', 'body_length': 39, 'vote_count': 0, 'vote_sum': 0, 'is_edited': False, 'id': '2003948576', 'author': {'name': 'Kilm Bosmal', 'type': 'Customers', 'id': 41442293}, 'sort_score': {'most_positive': 1577723112, 'most_critical': 1577723059, 'most_recent': 1577723082, 'most_useful': 1577723124}}, {'country': 'be', 'application_id': '1247849330', 'date': '2017-10-27T17:06:55Z', 'rating': 5, 'title': 'Très bonne appli... à recommander', 'body': 'Application au TOP', 'body_length': 18, 'vote_count': 0, 'vote_sum': 0, 'is_edited': False, 'id': '1879048764', 'author': {'name': 'Wesney', 'type': 'Customers', 'id': 130583834}, 'sort_score': {'most_positive': 1577723111, 'most_critical': 1577723058, 'most_recent': 1577723081, 'most_useful': 1577723123}}], 'metadata': {'request': {'path': '/applications/1247849330/reviews.json', 'store': 'ios', 'params': {'country': 'be', 'id': '1247849330', 'format': 'json'}, 'performed_at': '2020-01-15 03:05:50 UTC'}, 'content': {}}}\n"
     ]
    }
   ],
   "source": [
    "response = requests.get('https://api.apptweak.com/ios/applications/1247849330/reviews.json?country=us', params=params,\n",
    "                        headers={\n",
    "                            \"X-AppTweak-Key\": \"xxxxxxxxxxxxxxxx\"\n",
    "                        }\n",
    "                            \n",
    "                       )\n",
    "print (type(response.json()))\n",
    "print(response.json())"
   ]
  },
  {
   "cell_type": "markdown",
   "metadata": {},
   "source": [
    "# Metadata Request\n",
    "\n",
    "Metadata allows you to fetch all the information that AppTweak has been able to gather about a specific app on the App Store. The response to the metadata requests is a deep JSON hash containing all necessary data to get an overview of the application state on the App Store in the last 30 days."
   ]
  },
  {
   "cell_type": "code",
   "execution_count": 50,
   "metadata": {},
   "outputs": [
    {
     "name": "stdout",
     "output_type": "stream",
     "text": [
      "<class 'dict'>\n",
      "{'content': {'release_date': '2017-06-22 00:00:00 UTC', 'versions': [{'version': '2.9.1', 'release_date': '2019-10-14 00:00:00 UTC', 'release_notes': 'Bug fixes and improvements.'}, {'version': '2.9.2', 'release_date': '2019-10-23 00:00:00 UTC', 'release_notes': 'Bug fixes and improvements.\\n'}, {'version': '2.9.3', 'release_date': '2019-11-06 00:00:00 UTC', 'release_notes': '- New great referral program to invite friends and get PRO for FREE\\n- An ability to share specific portfolios with a public link\\n- More and more improvements to your experience with CoinStats'}, {'version': '2.9.4', 'release_date': '2019-11-08 00:00:00 UTC', 'release_notes': '- New great referral program to invite friends and get PRO for FREE\\n- An ability to share specific portfolios with a public link\\n- More and more improvements to your experience with CoinStats'}, {'version': '2.9.5', 'release_date': '2019-11-26 00:00:00 UTC', 'release_notes': 'More fixes and more improvements.'}], 'icon': 'https://is4-ssl.mzstatic.com/image/thumb/Purple113/v4/93/38/36/93383632-10ce-7c83-4889-4ea8c4fe4a36/AppIcon-0-0-1x_U007emarketing-0-0-0-10-0-0-85-220.png/1024x1024bb.jpg', 'genres': [6015, 6002], 'title': 'Coin Stats - Crypto Portfolio', 'slug': 'coin-stats-crypto-portfolio', 'description': 'Coin Stats is the #1 free Bitcoin & cryptocurrency portfolio tracking app.\\n\\nTrack Bitcoin, Ethereum, Litecoin, and over 5,000 altcoins prices from over 250 exchanges. Use your local currency and sync your favorite exchanges and wallets automatically to your Coin Stats portfolio so you don’t have to manually add your transactions. See everything in real-time in the app. \\n\\n*COIN RESEARCH \\nFind the next great coin. Coin Stats allows you to do advanced filtering, sorting, and research in order to find your next investment. You can access the latest data about any cryptocurrency, links to their website, Reddit, Twitter and read up to date news in order to get as much information as possible.\\n\\n*TRACK EVERY COIN\\nNever miss a buying or selling opportunity. Easily track and follow the prices of over 5,000 cryptocurrencies and access their charts and analytical data. You will be able to select the exchange you’re using or look at average prices across all exchanges. Also “favorite” coins you want to keep an eye on. \\n\\n*YOUR PORTFOLIO \\nSee your entire portfolio on one screen. Set up your portfolio in Coin Stats either by manually adding your buy/sell transactions or syncing your exchange or wallets for a live view. Set up multiple portfolios easily.\\n\\n*PORTFOLIO SHARING\\nCompare your portfolio with friends and track your gains over time. You can share one or more of your portfolios with your friends and it will appear in their Coin Stats app. \\n\\n*ALERTS\\nSet up a price, limit, volume and market cap alerts for all the cryptocurrencies available so you don’t miss a single opportunity. We’ll let you know!\\n\\n*NEWS\\nCoin Stats brings all the crypto related news from over 40 sources to a single screen so you can easily stay on top of the market.\\n\\n*WEEKLY UPDATES\\nWe move fast and update the Coin Stats app each week with more features and improvements for our users. You can check our backlog and plans at feedback.coinstats.app\\n\\n  \\nWe’re happy to learn more about your experience while using Coin Stats! Do not hesitate to contact us at support@coinstats.app for any reason.\\n\\n-The Coin Stats Team\\n\\n\\nUnlimited Access Upgrade:\\n- Your subscription lasts 1 month or 1 year\\n- You will be charged $4.99 for 1 month or 29.99 for 1 year\\n- Payment will be charged to your iTunes Account at confirmation of purchase.\\n- Your subscription automatically renews unless auto-renewal is turned off at least 24 hours before the end of the current subscription.\\n- Your account will be charged for a renewed subscription within 24 hours prior to the end of the current subscription. You will be charged $4.99 for 1 month.\\n- You can manage your subscription and switch off the auto-renewal by accessing your account settings after purchase. \\n- You cannot cancel the current subscription during the active subscription period.\\n- Any unused part or time-span of a free trial period will be forfeited, as soon as you purchase a subscription.\\n- You can view our Privacy Policy here: https://coinstats.app/privacy.html\\n- You can view our Terms of Use here:\\nhttps://coinstats.app/terms.html', 'features': {'game_center': False, 'passbook': False, 'in_apps': True}, 'devices': ['tvos', 'watch', 'iphone', 'ipad', 'ipod'], 'price': '$0.00', 'size': 61353984, 'screenshots': {'iphone': [], 'iphone5': [], 'iphone6': [], 'ipad': [], 'ipadPro': [{'id': '77b57346-1fcc-2384-0f15-b6e7d06e7b35', 'path_component': 'image/thumb/Purple113/v4', 'filename': 'pr_source.png/2048x2732bb.jpg', 'url': 'https://is2-ssl.mzstatic.com/image/thumb/Purple113/v4/77/b5/73/77b57346-1fcc-2384-0f15-b6e7d06e7b35/pr_source.png/2048x2732bb.jpg'}, {'id': '86616232-e3fb-6109-fb5f-66e49682c4aa', 'path_component': 'image/thumb/Purple123/v4', 'filename': 'pr_source.png/2048x2732bb.jpg', 'url': 'https://is2-ssl.mzstatic.com/image/thumb/Purple123/v4/86/61/62/86616232-e3fb-6109-fb5f-66e49682c4aa/pr_source.png/2048x2732bb.jpg'}, {'id': '550b2109-0de8-b22b-c4a7-1e785e49e671', 'path_component': 'image/thumb/Purple123/v4', 'filename': 'pr_source.png/2048x2732bb.jpg', 'url': 'https://is2-ssl.mzstatic.com/image/thumb/Purple123/v4/55/0b/21/550b2109-0de8-b22b-c4a7-1e785e49e671/pr_source.png/2048x2732bb.jpg'}, {'id': 'bdcaef80-5101-39d6-8a15-cc0824cf1b8e', 'path_component': 'image/thumb/Purple113/v4', 'filename': 'pr_source.png/2048x2732bb.jpg', 'url': 'https://is2-ssl.mzstatic.com/image/thumb/Purple113/v4/bd/ca/ef/bdcaef80-5101-39d6-8a15-cc0824cf1b8e/pr_source.png/2048x2732bb.jpg'}, {'id': '22e9c532-5b1c-4b2c-fefd-22daee932e5d', 'path_component': 'image/thumb/Purple113/v4', 'filename': 'pr_source.png/2048x2732bb.jpg', 'url': 'https://is2-ssl.mzstatic.com/image/thumb/Purple113/v4/22/e9/c5/22e9c532-5b1c-4b2c-fefd-22daee932e5d/pr_source.png/2048x2732bb.jpg'}], 'iphone_6_5': [{'id': 'a67c821e-224c-53d7-006f-b6d8a0fce232', 'path_component': 'image/thumb/Purple113/v4', 'filename': 'pr_source.png/1242x2688bb.jpg', 'url': 'https://is2-ssl.mzstatic.com/image/thumb/Purple113/v4/a6/7c/82/a67c821e-224c-53d7-006f-b6d8a0fce232/pr_source.png/1242x2688bb.jpg'}, {'id': 'cf08bb8c-3dfc-11b4-5dd9-ce2dd8114a74', 'path_component': 'image/thumb/Purple113/v4', 'filename': 'pr_source.png/1242x2688bb.jpg', 'url': 'https://is2-ssl.mzstatic.com/image/thumb/Purple113/v4/cf/08/bb/cf08bb8c-3dfc-11b4-5dd9-ce2dd8114a74/pr_source.png/1242x2688bb.jpg'}, {'id': '363f936d-3506-08be-94f9-9413700c57be', 'path_component': 'image/thumb/Purple113/v4', 'filename': 'pr_source.png/1242x2688bb.jpg', 'url': 'https://is2-ssl.mzstatic.com/image/thumb/Purple113/v4/36/3f/93/363f936d-3506-08be-94f9-9413700c57be/pr_source.png/1242x2688bb.jpg'}, {'id': 'd7fd1047-d34a-ab6d-caa4-f5f442b11ae5', 'path_component': 'image/thumb/Purple123/v4', 'filename': 'pr_source.png/1242x2688bb.jpg', 'url': 'https://is2-ssl.mzstatic.com/image/thumb/Purple123/v4/d7/fd/10/d7fd1047-d34a-ab6d-caa4-f5f442b11ae5/pr_source.png/1242x2688bb.jpg'}, {'id': 'ca4f99c1-f937-745d-0463-4d02cd7155a2', 'path_component': 'image/thumb/Purple123/v4', 'filename': 'pr_source.png/1242x2688bb.jpg', 'url': 'https://is2-ssl.mzstatic.com/image/thumb/Purple123/v4/ca/4f/99/ca4f99c1-f937-745d-0463-4d02cd7155a2/pr_source.png/1242x2688bb.jpg'}, {'id': 'fe3557dd-4413-66ce-a600-89f6443a337f', 'path_component': 'image/thumb/Purple113/v4', 'filename': 'pr_source.png/1242x2688bb.jpg', 'url': 'https://is2-ssl.mzstatic.com/image/thumb/Purple113/v4/fe/35/57/fe3557dd-4413-66ce-a600-89f6443a337f/pr_source.png/1242x2688bb.jpg'}], 'iphone_5_8': [{'id': '91258d04-fc3b-3014-9c94-2ae566df1e28', 'path_component': 'image/thumb/Purple123/v4', 'filename': 'pr_source.png/1125x2436bb.jpg', 'url': 'https://is2-ssl.mzstatic.com/image/thumb/Purple123/v4/91/25/8d/91258d04-fc3b-3014-9c94-2ae566df1e28/pr_source.png/1125x2436bb.jpg'}, {'id': '1089af5f-301a-c723-ea45-d13dcd941481', 'path_component': 'image/thumb/Purple113/v4', 'filename': 'pr_source.png/1125x2436bb.jpg', 'url': 'https://is2-ssl.mzstatic.com/image/thumb/Purple113/v4/10/89/af/1089af5f-301a-c723-ea45-d13dcd941481/pr_source.png/1125x2436bb.jpg'}, {'id': 'f45b0dff-3943-aa8a-a24f-3428833c9fca', 'path_component': 'image/thumb/Purple123/v4', 'filename': 'pr_source.png/1125x2436bb.jpg', 'url': 'https://is2-ssl.mzstatic.com/image/thumb/Purple123/v4/f4/5b/0d/f45b0dff-3943-aa8a-a24f-3428833c9fca/pr_source.png/1125x2436bb.jpg'}, {'id': 'c2b356b3-a585-3305-5d48-6bf519a7e431', 'path_component': 'image/thumb/Purple123/v4', 'filename': 'pr_source.png/1125x2436bb.jpg', 'url': 'https://is2-ssl.mzstatic.com/image/thumb/Purple123/v4/c2/b3/56/c2b356b3-a585-3305-5d48-6bf519a7e431/pr_source.png/1125x2436bb.jpg'}, {'id': '4acb153e-31d2-6863-0bc5-a4d7a98147cc', 'path_component': 'image/thumb/Purple113/v4', 'filename': 'pr_source.png/1125x2436bb.jpg', 'url': 'https://is2-ssl.mzstatic.com/image/thumb/Purple113/v4/4a/cb/15/4acb153e-31d2-6863-0bc5-a4d7a98147cc/pr_source.png/1125x2436bb.jpg'}, {'id': '712bf458-1724-395f-8e6d-47efeda80335', 'path_component': 'image/thumb/Purple113/v4', 'filename': 'pr_source.png/1125x2436bb.jpg', 'url': 'https://is2-ssl.mzstatic.com/image/thumb/Purple113/v4/71/2b/f4/712bf458-1724-395f-8e6d-47efeda80335/pr_source.png/1125x2436bb.jpg'}], 'ipadPro_2018': [{'id': '506020f5-2a2f-b07f-17d4-6bf8339f3e8b', 'path_component': 'image/thumb/Purple123/v4', 'filename': 'pr_source.png/2048x2732bb.jpg', 'url': 'https://is2-ssl.mzstatic.com/image/thumb/Purple123/v4/50/60/20/506020f5-2a2f-b07f-17d4-6bf8339f3e8b/pr_source.png/2048x2732bb.jpg'}, {'id': 'ebab43fe-d8a3-6e1c-bcd0-1be9ec1d9781', 'path_component': 'image/thumb/Purple113/v4', 'filename': 'pr_source.png/2048x2732bb.jpg', 'url': 'https://is2-ssl.mzstatic.com/image/thumb/Purple113/v4/eb/ab/43/ebab43fe-d8a3-6e1c-bcd0-1be9ec1d9781/pr_source.png/2048x2732bb.jpg'}, {'id': '6d385756-df06-4a0c-de9d-07de3b550590', 'path_component': 'image/thumb/Purple113/v4', 'filename': 'pr_source.png/2048x2732bb.jpg', 'url': 'https://is2-ssl.mzstatic.com/image/thumb/Purple113/v4/6d/38/57/6d385756-df06-4a0c-de9d-07de3b550590/pr_source.png/2048x2732bb.jpg'}, {'id': '0d11272c-38c1-5a07-33b4-c1030077b139', 'path_component': 'image/thumb/Purple123/v4', 'filename': 'pr_source.png/2048x2732bb.jpg', 'url': 'https://is2-ssl.mzstatic.com/image/thumb/Purple123/v4/0d/11/27/0d11272c-38c1-5a07-33b4-c1030077b139/pr_source.png/2048x2732bb.jpg'}, {'id': 'c0041f0d-7e69-e12c-c60a-165342bf54a1', 'path_component': 'image/thumb/Purple113/v4', 'filename': 'pr_source.png/2048x2732bb.jpg', 'url': 'https://is2-ssl.mzstatic.com/image/thumb/Purple113/v4/c0/04/1f/c0041f0d-7e69-e12c-c60a-165342bf54a1/pr_source.png/2048x2732bb.jpg'}], 'appleWatch': [{'id': '56f959ad-9a58-99c7-3fb3-62e0517105ae', 'path_component': 'image/thumb/Purple123/v4', 'filename': 'mzl.pypqeuot.png/312x390bb.jpg', 'url': 'https://is2-ssl.mzstatic.com/image/thumb/Purple123/v4/56/f9/59/56f959ad-9a58-99c7-3fb3-62e0517105ae/mzl.pypqeuot.png/312x390bb.jpg'}, {'id': '0015cc69-39c7-322e-ae3d-b860e3daaaed', 'path_component': 'image/thumb/Purple113/v4', 'filename': 'mzl.kyxjpijy.png/312x390bb.jpg', 'url': 'https://is2-ssl.mzstatic.com/image/thumb/Purple113/v4/00/15/cc/0015cc69-39c7-322e-ae3d-b860e3daaaed/mzl.kyxjpijy.png/312x390bb.jpg'}, {'id': '334a1f25-8aa1-9495-4b3d-5691bd8e737e', 'path_component': 'image/thumb/Purple113/v4', 'filename': 'mzl.mbtqwhud.png/312x390bb.jpg', 'url': 'https://is2-ssl.mzstatic.com/image/thumb/Purple113/v4/33/4a/1f/334a1f25-8aa1-9495-4b3d-5691bd8e737e/mzl.mbtqwhud.png/312x390bb.jpg'}, {'id': '174e5b62-eda9-1407-12fe-eded9582fa18', 'path_component': 'image/thumb/Purple113/v4', 'filename': 'mzl.leixcnlx.png/312x390bb.jpg', 'url': 'https://is2-ssl.mzstatic.com/image/thumb/Purple113/v4/17/4e/5b/174e5b62-eda9-1407-12fe-eded9582fa18/mzl.leixcnlx.png/312x390bb.jpg'}, {'id': '4a7e62d7-19dd-04e0-2734-2d7ec999977c', 'path_component': 'image/thumb/Purple113/v4', 'filename': 'mzl.nbhzlafe.png/312x390bb.jpg', 'url': 'https://is2-ssl.mzstatic.com/image/thumb/Purple113/v4/4a/7e/62/4a7e62d7-19dd-04e0-2734-2d7ec999977c/mzl.nbhzlafe.png/312x390bb.jpg'}], 'appleWatch_2018': [], 'iphone6plus': [{'id': '4f4ee6ee-7ad4-02ee-2843-c256d22156db', 'path_component': 'image/thumb/Purple113/v4', 'filename': 'pr_source.png/1242x2208bb.jpg', 'url': 'https://is2-ssl.mzstatic.com/image/thumb/Purple113/v4/4f/4e/e6/4f4ee6ee-7ad4-02ee-2843-c256d22156db/pr_source.png/1242x2208bb.jpg'}, {'id': 'a277f768-877f-eb60-ab14-d12102175ec3', 'path_component': 'image/thumb/Purple123/v4', 'filename': 'pr_source.png/1242x2208bb.jpg', 'url': 'https://is2-ssl.mzstatic.com/image/thumb/Purple123/v4/a2/77/f7/a277f768-877f-eb60-ab14-d12102175ec3/pr_source.png/1242x2208bb.jpg'}, {'id': '16ff3a69-a18a-3d41-097f-9835866158cf', 'path_component': 'image/thumb/Purple113/v4', 'filename': 'pr_source.png/1242x2208bb.jpg', 'url': 'https://is2-ssl.mzstatic.com/image/thumb/Purple113/v4/16/ff/3a/16ff3a69-a18a-3d41-097f-9835866158cf/pr_source.png/1242x2208bb.jpg'}, {'id': '484aa349-cd97-74c8-a807-a21e36125152', 'path_component': 'image/thumb/Purple123/v4', 'filename': 'pr_source.png/1242x2208bb.jpg', 'url': 'https://is2-ssl.mzstatic.com/image/thumb/Purple123/v4/48/4a/a3/484aa349-cd97-74c8-a807-a21e36125152/pr_source.png/1242x2208bb.jpg'}, {'id': '4def99fb-64a7-9937-f703-7bccdbcad204', 'path_component': 'image/thumb/Purple113/v4', 'filename': 'pr_source.png/1242x2208bb.jpg', 'url': 'https://is2-ssl.mzstatic.com/image/thumb/Purple113/v4/4d/ef/99/4def99fb-64a7-9937-f703-7bccdbcad204/pr_source.png/1242x2208bb.jpg'}, {'id': 'e5c549da-5f63-9403-13a7-c0cccfb728d9', 'path_component': 'image/thumb/Purple123/v4', 'filename': 'pr_source.png/1242x2208bb.jpg', 'url': 'https://is2-ssl.mzstatic.com/image/thumb/Purple123/v4/e5/c5/49/e5c549da-5f63-9403-13a7-c0cccfb728d9/pr_source.png/1242x2208bb.jpg'}]}, 'videos': {}, 'subtitle': 'Cryptocurrency Price News app', 'promotionalText': '', 'rating': {'average': 4.7}, 'customers_also_bought': ['1095564685', '1240849311', '1074052280', '1252526626', '1288676542', '1253668876', '1282107098', '1436799971', '636476147', '1263133106', '980888073', '1205990992', '996569075', '1027547409', '1095716562', '886427730', '440229059', '1278282521', '1228890196', '1266557120', '1234141021', '493253309', '1288339409', '885251393', '1277924158', '1047225016', '966301394', '1262148500', '389157776', '1149581638', '1279896253', '1240846972', '1300186484', '674984916', '1239107714', '1278383455', '1318821872', '1252903728', '1090004654', '1119332592', '569358646', '1095681235', '1361671700', '1126843840', '943912290', '1333588809', '591644846', '946903421'], 'id': 1247849330, 'developer': {'name': 'Inomma LLC', 'id': 1122018201}}, 'metadata': {'request': {'path': '/applications/1247849330/metadata.json', 'store': 'ios', 'params': {'country': 'us', 'language': 'us', 'device': 'iphone', 'max-age': 96040, 'id': '1247849330', 'format': 'json'}, 'performed_at': '2020-01-15 04:08:24 UTC'}, 'content': {'last_updated_at': '2020-01-15 01:19:41 UTC'}}}\n"
     ]
    }
   ],
   "source": [
    "response = requests.get('https://api.apptweak.com/ios/applications/1247849330/metadata.json?country=gb&language=en&device=iphone&max-age=86400', params=params,\n",
    "                        headers={\n",
    "                            \"X-AppTweak-Key\": \"xxxxxxxxxxxxxxxxxx\"\n",
    "                        }\n",
    "                            \n",
    "                       )\n",
    "print (type(response.json()))\n",
    "print(response.json())"
   ]
  },
  {
   "cell_type": "markdown",
   "metadata": {},
   "source": [
    "# Category Top Keywords"
   ]
  },
  {
   "cell_type": "markdown",
   "metadata": {},
   "source": [
    "The category keyword gives the most popular keyword for a given category. This is computed by looking at the best keywords for the app present at the top of each category. Category-ID (6015) --> Finance"
   ]
  },
  {
   "cell_type": "code",
   "execution_count": 41,
   "metadata": {},
   "outputs": [
    {
     "name": "stdout",
     "output_type": "stream",
     "text": [
      "<class 'dict'>\n",
      "{'content': [{'keyword': 'bank', 'score': 30, 'stats': {'competition': 92.64559432495685, 'volume': 100, 'kei': 57.354405675043154}}, {'keyword': 'budget', 'score': 20, 'stats': {'competition': 79.23666959061872, 'volume': 100, 'kei': 70.76333040938128}}, {'keyword': 'discover', 'score': 17, 'stats': {'competition': 80.0785088300648, 'volume': 100, 'kei': 69.9214911699352}}, {'keyword': 'credit', 'score': 16, 'stats': {'competition': 88.71619434672066, 'volume': 100, 'kei': 61.283805653279344}}, {'keyword': 'capital', 'score': 18, 'stats': {'competition': 80.13297655270173, 'volume': 99.34631382709046, 'kei': 69.41031237559982}}, {'keyword': 'progressive', 'score': 26, 'stats': {'competition': 86.79202044359533, 'volume': 98.86315877961235, 'kei': 62.489405190233256}}, {'keyword': 'cash', 'score': 29, 'stats': {'competition': 90.25645929800349, 'volume': 94.11844853246525, 'kei': 56.22969360708102}}, {'keyword': 'pay', 'score': 26, 'stats': {'competition': 85.28313002992847, 'volume': 92.27184064361754, 'kei': 59.71544712832157}}, {'keyword': 'chase', 'score': 16, 'stats': {'competition': 87.04795725179325, 'volume': 89.49965341396877, 'kei': 56.341860076658506}}, {'keyword': 'stock', 'score': 18, 'stats': {'competition': 90.56389973783482, 'volume': 83.43951255941282, 'kei': 49.59319234307451}}, {'keyword': 'citi', 'score': 16, 'stats': {'competition': 25.534369714242928, 'volume': 83.38158444759165, 'kei': 100}}, {'keyword': 'paypal', 'score': 27, 'stats': {'competition': 34.2199396772881, 'volume': 82.61030902234769, 'kei': 95.64626561885288}}, {'keyword': 'mint', 'score': 27, 'stats': {'competition': 40.37627746749938, 'volume': 80.92344375856665, 'kei': 88.7112914496353}}, {'keyword': 'citizens', 'score': 18, 'stats': {'competition': 60.43900334494968, 'volume': 77.59058874736505, 'kei': 69.49090459266145}}, {'keyword': 'citibank', 'score': 24, 'stats': {'competition': 9.326272056266898, 'volume': 76.97438601776977, 'kei': 108.28273837299638}}, {'keyword': 'finance', 'score': 23, 'stats': {'competition': 93.06908114427291, 'volume': 76.51281580736537, 'kei': 43.559449081523105}}, {'keyword': 'invest', 'score': 16, 'stats': {'competition': 57.111787401154345, 'volume': 73.5196504380241, 'kei': 68.2910892008}}, {'keyword': 'banking', 'score': 26, 'stats': {'competition': 89.45826063051915, 'volume': 71.97227039929999, 'kei': 43.57326436344221}}, {'keyword': 'banks', 'score': 40, 'stats': {'competition': 99.0999282452531, 'volume': 70.28572265793974, 'kei': 35.77548326623373}}, {'keyword': 'boa', 'score': 27, 'stats': {'competition': 29.999361231024878, 'volume': 62.325921391886496, 'kei': 74.7915037889131}}, {'keyword': 'meant', 'score': 20, 'stats': {'competition': 37.99642323211169, 'volume': 58.41797251362439, 'kei': 65.43021869054118}}, {'keyword': 'fiance', 'score': 26, 'stats': {'competition': 93.00022922628673, 'volume': 50.56678150144525, 'kei': 28.822949543468233}}, {'keyword': 'investments', 'score': 16, 'stats': {'competition': 81.3233477416161, 'volume': 50.280010053344085, 'kei': 34.53062765981558}}, {'keyword': 'ming', 'score': 17, 'stats': {'competition': 95.62419286867686, 'volume': 48.541992996551244, 'kei': 26.39510048950509}}, {'keyword': 'hint', 'score': 15, 'stats': {'competition': 89.71463132324266, 'volume': 48.05951289409809, 'kei': 28.97285453246077}}, {'keyword': 'finances', 'score': 14, 'stats': {'competition': 93.06005256224702, 'volume': 47.86169593086967, 'kei': 27.25242450585435}}, {'keyword': 'purchases', 'score': 16, 'stats': {'competition': 55.375902970587056, 'volume': 47.46584821992376, 'kei': 44.914130275454525}}, {'keyword': 'financing', 'score': 24, 'stats': {'competition': 93.03332006280472, 'volume': 46.95137406971783, 'kei': 26.746638992411455}}, {'keyword': 'portfolios', 'score': 20, 'stats': {'competition': 63.19804888245775, 'volume': 41.01058131071602, 'kei': 35.59798474234764}}, {'keyword': 'sending', 'score': 15, 'stats': {'competition': 61.344676083118514, 'volume': 37.43081298624381, 'kei': 33.184408497676586}}, {'keyword': 'capita', 'score': 22, 'stats': {'competition': 81.22357637985255, 'volume': 33.86501520629544, 'kei': 23.291146317309103}}, {'keyword': 'financials', 'score': 22, 'stats': {'competition': 85.48273497210434, 'volume': 27.247968817290403, 'kei': 17.57964425656962}}, {'keyword': 'minted', 'score': 19, 'stats': {'competition': 38.06029179181038, 'volume': 23.804594196586034, 'kei': 26.646793283802044}}, {'keyword': 'mink', 'score': 14, 'stats': {'competition': 92.06111468145612, 'volume': 21.998543307223198, 'kei': 12.745710778522259}}, {'keyword': 'venom', 'score': 14, 'stats': {'competition': 33.77358369309009, 'volume': 21.998543307223198, 'kei': 25.568118525709096}}, {'keyword': 'atms', 'score': 17, 'stats': {'competition': 64.35133446272296, 'volume': 18.51319901672174, 'kei': 15.856307906082462}}, {'keyword': 'pays', 'score': 17, 'stats': {'competition': 85.25228587184506, 'volume': 16.99440625241745, 'kei': 11.00348957809254}}, {'keyword': 'mince', 'score': 21, 'stats': {'competition': 39.36613138485909, 'volume': 13.995166298556253, 'kei': 15.483393895215203}}, {'keyword': 'deposed', 'score': 20, 'stats': {'competition': 67.04760302737566, 'volume': 13.995166298556253, 'kei': 11.60932590495732}}, {'keyword': 'mints', 'score': 21, 'stats': {'competition': 38.37728510867126, 'volume': 12.261953601524855, 'kei': 13.687125508737104}}, {'keyword': 'credited', 'score': 36, 'stats': {'competition': 88.64517298077483, 'volume': 8.82704884110208, 'kei': 5.415820547360701}}, {'keyword': 'deposited', 'score': 20, 'stats': {'competition': 67.04760302737566, 'volume': 7.880778455443629, 'kei': 6.537294628892653}}, {'keyword': 'financed', 'score': 19, 'stats': {'competition': 93.05854532503376, 'volume': 5.497423147409275, 'kei': 3.130312709773155}}, {'keyword': 'chucking', 'score': 21, 'stats': {'competition': 61.43055045615161, 'volume': 4.445024734094837, 'kei': 3.936933939075707}}, {'keyword': 'suspending', 'score': 21, 'stats': {'competition': 59.65082835869528, 'volume': 3.3350485065604403, 'kei': 3.013188699513062}}, {'keyword': 'depositing', 'score': 20, 'stats': {'competition': 67.06265849626035, 'volume': 2.8507778378227293, 'kei': 2.364359350867962}}, {'keyword': 'purchasers', 'score': 22, 'stats': {'competition': 55.405649763139316, 'volume': 2.0646021032252193, 'kei': 1.952996944522456}}, {'keyword': 'wallsit', 'score': 15, 'stats': {'competition': 72.91929260980132, 'volume': 1, 'kei': 0.40621061085298016}}, {'keyword': 'bodged', 'score': 26, 'stats': {'competition': 0, 'volume': 0, 'kei': 0}}, {'keyword': 'budging', 'score': 17, 'stats': {'competition': 0, 'volume': 0, 'kei': 0}}], 'metadata': {'request': {'path': '/ios/categories/6015/keywords/top.json', 'store': 'ios', 'params': {'country': 'us', 'language': 'us', 'device': 'iphone', 'type': 'free', 'term': 'game', 'id': '6015', 'format': 'json'}, 'performed_at': '2020-01-15 03:49:19 UTC'}, 'content': {}}}\n"
     ]
    }
   ],
   "source": [
    "response = requests.get('https://api.apptweak.com/ios/categories/6015/keywords/top.json?country=us&language=us&device=iphone&type=free', params=params,\n",
    "                        headers={\n",
    "                            \"X-AppTweak-Key\": \"xxxxxxxxxxxxxxxxxxxx\"\n",
    "                        }\n",
    "                            \n",
    "                       )\n",
    "print (type(response.json()))\n",
    "print(response.json())"
   ]
  },
  {
   "cell_type": "code",
   "execution_count": null,
   "metadata": {},
   "outputs": [],
   "source": []
  }
 ],
 "metadata": {
  "kernelspec": {
   "display_name": "Python 3",
   "language": "python",
   "name": "python3"
  },
  "language_info": {
   "codemirror_mode": {
    "name": "ipython",
    "version": 3
   },
   "file_extension": ".py",
   "mimetype": "text/x-python",
   "name": "python",
   "nbconvert_exporter": "python",
   "pygments_lexer": "ipython3",
   "version": "3.6.5"
  }
 },
 "nbformat": 4,
 "nbformat_minor": 2
}
